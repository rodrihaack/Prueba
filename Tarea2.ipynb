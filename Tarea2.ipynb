{
 "cells": [
  {
   "cell_type": "code",
   "execution_count": null,
   "id": "67d3b9d6-ad01-4885-bb79-cd58ce7ebbe4",
   "metadata": {},
   "outputs": [],
   "source": [
    "nombres = open(\"nombres_1.txt\", \"r\")\n",
    "eval_1 = open('eval1.txt', 'r')\n",
    "eval_2 = open('eval2.txt', 'r')\n",
    "\n",
    "lista_nombres = nombres.read().split(',')\n",
    "notas_1 = eval_1.read().split(',')\n",
    "notas_2 = eval_2.read().split(',')\n",
    "\n",
    "suma_notas=[]\n",
    "nombres_suma = {}\n",
    "\n",
    "for i in range(len(notas_1)):\n",
    "    a = int(notas_1[i])\n",
    "    b = int(notas_2[i])\n",
    "    c = a + b\n",
    "    suma_notas.append(c)\n",
    "    nombres_suma[lista_nombres[i]] = c\n",
    "    \n",
    "total = sum(suma_notas)\n",
    "    \n",
    "promedio = total/len(suma_notas)\n",
    "\n",
    "for i in range(len(nombres_suma)):\n",
    "    if nombres_suma[lista_nombres[i]] < promedio:\n",
    "        print(lista_nombres[i] + 'obtuvo menos que el promedio')"
   ]
  },
  {
   "cell_type": "markdown",
   "id": "beb4d405-0923-4a45-bcbc-4c512ac21175",
   "metadata": {},
   "source": [
    "\n",
    "* Primero que nada comencé abriendo los 3 archivos *\".txt\"* a utilizar.\n",
    "\n",
    "* Luego a cada uno de esos archivos le asigne una lista que tomaba como separador a la ``,``.\n",
    "\n",
    "* Generé una lista vacia para asignarle la suma de ambas notas, y también un diccionario vacio para asignarle a cada persona sus notas sumadas. **El diccionario es la estructura solicitada en el inciso a)**.\n",
    "\n",
    "* Convertí los elementos de ambas listas de notas de *\"str\"* a *\"int\"*, los sumé en una nueva variable *\"c\"* y los asigne a la lista suma y al diccionario ya mencionado.\n",
    "\n",
    "* Calcule la suma de todos los elemntos de la lista `suma_notas` con la función `sum()`. Y luego con ese valor calcule el promedio.\n",
    "\n",
    "* Finalmente, fuí iterando sobre los valores (asociados a cada clave) de la estructura (diccionario) generada con los nombres de los estudiantes y la suma de ambas notas y comparandolas con el valor del promedio. Imprimiendo así la clave, es decir, el nombre de los alumnos que obtuvieron menos que el promedio.\n"
   ]
  }
 ],
 "metadata": {
  "kernelspec": {
   "display_name": "Python 3",
   "language": "python",
   "name": "python3"
  },
  "language_info": {
   "codemirror_mode": {
    "name": "ipython",
    "version": 3
   },
   "file_extension": ".py",
   "mimetype": "text/x-python",
   "name": "python",
   "nbconvert_exporter": "python",
   "pygments_lexer": "ipython3",
   "version": "3.8.8"
  }
 },
 "nbformat": 4,
 "nbformat_minor": 5
}
